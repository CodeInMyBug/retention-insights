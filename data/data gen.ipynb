{
 "cells": [
  {
   "cell_type": "code",
   "execution_count": null,
   "id": "217381c0-7d32-49a8-9a99-379a70b74c4e",
   "metadata": {},
   "outputs": [],
   "source": [
    "# 📁 01_generate_churn_data.ipynb\n",
    "\n",
    "# ## 1. Introduction\n",
    "\"\"\"\n",
    "This notebook generates a realistic synthetic dataset for customer churn prediction.\n",
    "The dataset simulates a telco-like business with features like usage, complaints, and promotions.\n",
    "\"\"\"\n",
    "\n",
    "# ## 2. Imports\n",
    "import pandas as pd\n",
    "import numpy as np\n",
    "\n",
    "# ## 3. Configuration\n",
    "np.random.seed(42)\n",
    "n = 1000  # number of customers\n",
    "\n",
    "# ## 4. Feature Generation\n",
    "customer_id = [f\"CUST{i:04d}\" for i in range(n)]\n",
    "tenure_months = np.random.randint(1, 60, size=n)\n",
    "monthly_spend = np.round(np.random.normal(50, 15, size=n), 2)\n",
    "monthly_spend = np.clip(monthly_spend, 10, 150)\n",
    "num_complaints = np.random.poisson(1.5, size=n)\n",
    "is_on_promo_plan = np.random.choice([0, 1], size=n, p=[0.7, 0.3])\n",
    "used_app_this_week = np.random.choice([0, 1], size=n, p=[0.4, 0.6])\n",
    "segments = np.random.choice(['Basic', 'Plus', 'Premium'], size=n, p=[0.5, 0.3, 0.2])\n",
    "\n",
    "# ## 5. Churn Label Logic\n",
    "churn_prob = (\n",
    "    0.2 * (tenure_months < 12).astype(int) +\n",
    "    0.2 * (monthly_spend < 30).astype(int) +\n",
    "    0.3 * (num_complaints > 2).astype(int) +\n",
    "    0.1 * (is_on_promo_plan == 0).astype(int) +\n",
    "    0.1 * (used_app_this_week == 0).astype(int)\n",
    ")\n",
    "churned = np.random.binomial(1, churn_prob.clip(0, 1))\n",
    "\n",
    "# ## 6. Assemble DataFrame\n",
    "df_churn = pd.DataFrame({\n",
    "    'customer_id': customer_id,\n",
    "    'tenure_months': tenure_months,\n",
    "    'monthly_spend': monthly_spend,\n",
    "    'num_complaints': num_complaints,\n",
    "    'is_on_promo_plan': is_on_promo_plan,\n",
    "    'used_app_this_week': used_app_this_week,\n",
    "    'segment': segments,\n",
    "    'churned': churned\n",
    "})\n",
    "\n",
    "# ## 7. Save Dataset\n",
    "df_churn.to_csv(\"retention_insights_fake_customers.csv\", index=False)\n",
    "df_churn.head()"
   ]
  }
 ],
 "metadata": {
  "kernelspec": {
   "display_name": "Python 3 (ipykernel)",
   "language": "python",
   "name": "python3"
  },
  "language_info": {
   "codemirror_mode": {
    "name": "ipython",
    "version": 3
   },
   "file_extension": ".py",
   "mimetype": "text/x-python",
   "name": "python",
   "nbconvert_exporter": "python",
   "pygments_lexer": "ipython3",
   "version": "3.11.7"
  }
 },
 "nbformat": 4,
 "nbformat_minor": 5
}
